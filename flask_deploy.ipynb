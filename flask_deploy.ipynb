{
 "cells": [
  {
   "cell_type": "markdown",
   "metadata": {
    "toc": true
   },
   "source": [
    "<h1>Table of Contents<span class=\"tocSkip\"></span></h1>\n",
    "<div class=\"toc\"><ul class=\"toc-item\"><li><span><a href=\"#Install-Flask\" data-toc-modified-id=\"Install-Flask-1\"><span class=\"toc-item-num\">1&nbsp;&nbsp;</span>Install Flask</a></span></li><li><span><a href=\"#Create-test-file-named-REST_API.py-for-the-following-code\" data-toc-modified-id=\"Create-test-file-named-REST_API.py-for-the-following-code-2\"><span class=\"toc-item-num\">2&nbsp;&nbsp;</span>Create test file named REST_API.py for the following code</a></span></li><li><span><a href=\"#Testing-the-model\" data-toc-modified-id=\"Testing-the-model-3\"><span class=\"toc-item-num\">3&nbsp;&nbsp;</span>Testing the model</a></span></li><li><span><a href=\"#Creating-client-application\" data-toc-modified-id=\"Creating-client-application-4\"><span class=\"toc-item-num\">4&nbsp;&nbsp;</span>Creating client application</a></span></li></ul></div>"
   ]
  },
  {
   "cell_type": "markdown",
   "metadata": {},
   "source": [
    "# Install Flask"
   ]
  },
  {
   "cell_type": "code",
   "execution_count": 2,
   "metadata": {},
   "outputs": [
    {
     "name": "stdout",
     "output_type": "stream",
     "text": [
      "Requirement already satisfied: flask in c:\\users\\mirnamamaranda\\anaconda3\\anaconda\\lib\\site-packages (1.1.2)\n",
      "Requirement already satisfied: Jinja2>=2.10.1 in c:\\users\\mirnamamaranda\\anaconda3\\anaconda\\lib\\site-packages (from flask) (2.11.2)\n",
      "Requirement already satisfied: Werkzeug>=0.15 in c:\\users\\mirnamamaranda\\anaconda3\\anaconda\\lib\\site-packages (from flask) (1.0.1)\n",
      "Requirement already satisfied: click>=5.1 in c:\\users\\mirnamamaranda\\anaconda3\\anaconda\\lib\\site-packages (from flask) (7.1.2)\n",
      "Requirement already satisfied: itsdangerous>=0.24 in c:\\users\\mirnamamaranda\\anaconda3\\anaconda\\lib\\site-packages (from flask) (1.1.0)\n",
      "Requirement already satisfied: MarkupSafe>=0.23 in c:\\users\\mirnamamaranda\\anaconda3\\anaconda\\lib\\site-packages (from Jinja2>=2.10.1->flask) (1.1.1)\n"
     ]
    }
   ],
   "source": [
    "# install flask on your terminal"
   ]
  },
  {
   "cell_type": "markdown",
   "metadata": {},
   "source": [
    "# Create test file named REST_API.py for the following code"
   ]
  },
  {
   "cell_type": "code",
   "execution_count": null,
   "metadata": {},
   "outputs": [],
   "source": [
    "import pickle\n",
    "from flask import Flask, request, json, jsonify\n",
    "import numpy as np\n",
    "\n",
    "app = Flask(__name__)\n",
    "\n",
    "#---the filename of the saved model---\n",
    "filename = 'diabetes.sav'\n",
    "\n",
    "#---load the saved model---\n",
    "loaded_model = pickle.load(open(filename, 'rb'))\n",
    "@app.route('/diabetes/v1/predict', methods=['POST'])\n",
    "\n",
    "def predict():\n",
    "    features = request.json #---get the features to predict---\n",
    "#---create the features list for prediction---\n",
    "    features_list = [features[\"Glucose\"],\n",
    "    features[\"BMI\"],\n",
    "    features[\"Age\"]]\n",
    "#---get the prediction class---\n",
    "    prediction = loaded_model.predict([features_list])\n",
    "#---get the prediction probabilities---\n",
    "    confidence = loaded_model.predict_proba([features_list])\n",
    "#---formulate the response to return to client---\n",
    "    response = {}\n",
    "    response['prediction'] = int(prediction[0])\n",
    "    response['confidence'] = str(round(np.amax(confidence[0]) * 100 ,2))\n",
    "    return jsonify(response)\n",
    "if __name__ == '__main__':\n",
    "    app.run(host='0.0.0.0', port=5000)"
   ]
  },
  {
   "cell_type": "markdown",
   "metadata": {},
   "source": [
    "# Testing the model\n",
    "run the API.py on your terminal"
   ]
  },
  {
   "cell_type": "markdown",
   "metadata": {},
   "source": [
    "# Creating client application"
   ]
  },
  {
   "cell_type": "code",
   "execution_count": null,
   "metadata": {},
   "outputs": [],
   "source": [
    "import json\n",
    "import requests\n",
    "\n",
    "def predict_diabetes(BMI, Age, Glucose):\n",
    "    url = 'http://127.0.0.1:5000/diabetes/v1/predict'\n",
    "    data = {\"BMI\":BMI, \"Age\":Age, \"Glucose\":Glucose}\n",
    "    data_json = json.dumps(data)\n",
    "    headers = {'Content-type':'application/json'}\n",
    "    response = requests.post(url, data=data_json, headers=headers)\n",
    "    result = json.loads(response.text)\n",
    "    return result\n",
    "if __name__ == \"__main__\":\n",
    "    BMI = input('BMI?')\n",
    "    Age = input('Age?')\n",
    "    Glucose = input('Glucose?')\n",
    "    predictions = predict_diabetes(BMI,Age,Glucose)\n",
    "    print(\"Diabetic\" if predictions[\"prediction\"] == 1 else \"Not\n",
    "Diabetic\")\n",
    "    print(\"Confidence: \" + predictions[\"confidence\"] + \"%\")\n"
   ]
  }
 ],
 "metadata": {
  "kernelspec": {
   "display_name": "Python 3",
   "language": "python",
   "name": "python3"
  },
  "language_info": {
   "codemirror_mode": {
    "name": "ipython",
    "version": 3
   },
   "file_extension": ".py",
   "mimetype": "text/x-python",
   "name": "python",
   "nbconvert_exporter": "python",
   "pygments_lexer": "ipython3",
   "version": "3.8.5"
  },
  "toc": {
   "base_numbering": 1,
   "nav_menu": {},
   "number_sections": true,
   "sideBar": true,
   "skip_h1_title": false,
   "title_cell": "Table of Contents",
   "title_sidebar": "Contents",
   "toc_cell": true,
   "toc_position": {},
   "toc_section_display": true,
   "toc_window_display": true
  }
 },
 "nbformat": 4,
 "nbformat_minor": 4
}
